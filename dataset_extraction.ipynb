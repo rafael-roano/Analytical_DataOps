{
 "cells": [
  {
   "cell_type": "code",
   "execution_count": 57,
   "id": "55dc8de3",
   "metadata": {},
   "outputs": [],
   "source": [
    "from sqlalchemy import create_engine\n",
    "import pandas as pd\n"
   ]
  },
  {
   "cell_type": "code",
   "execution_count": 58,
   "id": "9cdc80bf",
   "metadata": {},
   "outputs": [],
   "source": [
    "engine = create_engine(\"mysql+pymysql://\" + \"\" + \"@localhost:/\" + \"3a17\")"
   ]
  },
  {
   "cell_type": "code",
   "execution_count": 59,
   "id": "c7266993",
   "metadata": {},
   "outputs": [],
   "source": [
    "so = pd.read_sql_table(\"so\", engine)"
   ]
  },
  {
   "cell_type": "code",
   "execution_count": 60,
   "id": "596e16cb",
   "metadata": {},
   "outputs": [],
   "source": [
    "so_reduced = so[[\"id\", \"currencyId\", \"customerId\", \"dateCompleted\", \"dateCreated\", \"locationGroupId\", \"qbClassId\", \"statusId\"]]\n",
    "filter_2021 = (so_reduced['dateCreated'] > \"2021-01-01 00:00:00\") & (so_reduced['dateCreated'] <= \"2021-12-31 23:59:59\")\n",
    "so_reduced = so_reduced.loc[filter_2021]\n"
   ]
  },
  {
   "cell_type": "code",
   "execution_count": 61,
   "id": "c55e3837",
   "metadata": {},
   "outputs": [],
   "source": [
    "so_reduced.to_csv(\"C:\\\\Users\\\\FBLServer\\\\Documents\\\\Python Scripts\\\\SB\\\\so_reduced.csv\", index = False)"
   ]
  },
  {
   "cell_type": "code",
   "execution_count": null,
   "id": "4977f89a",
   "metadata": {},
   "outputs": [],
   "source": []
  }
 ],
 "metadata": {
  "kernelspec": {
   "display_name": "Python 3",
   "language": "python",
   "name": "python3"
  },
  "language_info": {
   "codemirror_mode": {
    "name": "ipython",
    "version": 3
   },
   "file_extension": ".py",
   "mimetype": "text/x-python",
   "name": "python",
   "nbconvert_exporter": "python",
   "pygments_lexer": "ipython3",
   "version": "3.8.8"
  }
 },
 "nbformat": 4,
 "nbformat_minor": 5
}
